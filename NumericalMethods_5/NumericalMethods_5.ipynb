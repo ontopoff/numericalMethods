{
 "cells": [
  {
   "cell_type": "markdown",
   "metadata": {},
   "source": [
    "<h1>Задание 5. Применение дискретного ряда Фурье для решения методом сеток однородного уравнения теплопроводности</h1>\n",
    "<h2 align = \"center\"><font color=\"#6f8600\">Вариант 6</font></h2>\n",
    "<p>Будем искать решение следующей задачи:</p>\n",
    "$\\frac{\\partial u}{\\partial t} = \\frac{\\partial^{2} u}{\\partial x^{2}}, \\ \\ 0 < x < 1, \\ \\ 0 < t \\leqslant 0.1$<br/>\n",
    "$u(x, 0) = sin(3\\pi x), \\ \\ 0 \\leqslant x \\leqslant 1$<br/>\n",
    "$u(0, t) = 0, \\ \\ u(1, t) = 0,\\ \\ 0 < t \\leqslant 0.1$<br/>\n",
    "<p>Будем искать аналитическое решение, используя ряд Фурье и дискретный ряд Фурье, а также сеточное решение, используя ДРФ по схеме с весами</p>"
   ]
  },
  {
   "cell_type": "code",
   "execution_count": 1,
   "metadata": {},
   "outputs": [],
   "source": [
    "# Подключение служебных пакетов\n",
    "import sympy as sp\n",
    "import math\n",
    "import pandas as pd\n",
    "import numpy as np"
   ]
  },
  {
   "cell_type": "markdown",
   "metadata": {},
   "source": [
    "<h3>1) Построим аналитическое решение, используя ряд Фурье</h3>\n",
    "<p>Решение может быть представлено в виде:</p>\n",
    "$u(x,t) = \\sqrt2 \\sum\\limits_{p=1}^{\\infty} c_{p} e^{-\\pi^{2}p^{2}t} sin(p\\pi x)$, где $c_{p} = \\int\\limits_{0}^{1} sin(3\\pi x) \\sqrt2 sin(p\\pi x)dx$"
   ]
  },
  {
   "cell_type": "code",
   "execution_count": 9,
   "metadata": {},
   "outputs": [
    {
     "name": "stdout",
     "output_type": "stream",
     "text": [
      "    t/x    0       0.2       0.4       0.6       0.8    1\n",
      "0  0.00  0.0  0.951057 -0.587785 -0.587785  0.951057  0.0\n",
      "1  0.02  0.0  0.160942 -0.099468 -0.099468  0.160942  0.0\n",
      "2  0.04  0.0  0.027235 -0.016832 -0.016832  0.027235  0.0\n",
      "3  0.06  0.0  0.004609 -0.002848 -0.002848  0.004609  0.0\n",
      "4  0.08  0.0  0.000780 -0.000482 -0.000482  0.000780  0.0\n",
      "5  0.10  0.0  0.000132 -0.000082 -0.000082  0.000132  0.0\n"
     ]
    }
   ],
   "source": [
    "x, t = sp.symbols(\"x, t\")\n",
    "phi = sp.simplify(sp.sin(3*sp.pi*x))\n",
    "uf = buildFourierSeries(phi, 30)\n",
    "\n",
    "# Печать таблицы аналитического решения \n",
    "solution = generateTable(uf)\n",
    "print(bigTable(solution))"
   ]
  },
  {
   "cell_type": "markdown",
   "metadata": {},
   "source": [
    "<h3>2) Построим аналитическое решение, используя дискретный ряд Фурье</h3>\n",
    "<p>Решение может быть представлено в виде:</p>\n",
    "$u(x,t) \\approx \\sqrt2 \\sum\\limits_{p=1}^{N-1} \\widetilde{c}_{p} e^{-\\pi^{2}p^{2}t} sin(p\\pi x)$, где $\\widetilde{c}_{p} = \\sqrt2 h \\sum\\limits_{i=1}^{N-1} sin(3\\pi ih) sin(p\\pi i h)$"
   ]
  },
  {
   "cell_type": "code",
   "execution_count": 16,
   "metadata": {},
   "outputs": [],
   "source": [
    "udsf_5 = buildDFS(phi, 5)\n",
    "udsf_10 = buildDFS(phi, 10)\n",
    "udsf_20 = buildDFS(phi, 20)"
   ]
  },
  {
   "cell_type": "code",
   "execution_count": 17,
   "metadata": {},
   "outputs": [],
   "source": [
    "solution_5 = generateTable(udsf_5)\n",
    "solution_10 = generateTable(udsf_10)\n",
    "solution_20 = generateTable(udsf_20)"
   ]
  },
  {
   "cell_type": "markdown",
   "metadata": {},
   "source": [
    "<p>Сравним аналитические решения, найденные при помощи ряда Фурье и при помощи дискретного ряда Фурье</p>"
   ]
  },
  {
   "cell_type": "code",
   "execution_count": 21,
   "metadata": {},
   "outputs": [
    {
     "name": "stdout",
     "output_type": "stream",
     "text": [
      "    N  ||uf-udsf^N||\n",
      "0   5   5.551115e-16\n",
      "1  10   1.221245e-15\n",
      "2  20   1.887379e-15\n"
     ]
    }
   ],
   "source": [
    "err = pd.DataFrame({ \n",
    "                   'N': [5, 10, 20],\n",
    "                   '||uf-udsf^N||': [norma(solution, solution_5), norma(solution, solution_10), norma(solution, solution_20)]\n",
    "                  })\n",
    "print(err)"
   ]
  },
  {
   "cell_type": "markdown",
   "metadata": {},
   "source": [
    "<h3>3) Найдем сеточное решение, используя ДРФ по схеме с весами</h3>\n",
    "<p>Решение может быть представлено в виде:</p>\n",
    "$u(x,t) = \\sqrt2 \\sum\\limits_{p=1}^{N-1} \\widetilde{c}_{p} (\\lambda_{p}^{\\sigma})^{k} sin(p\\pi x)$, где $\\widetilde{c}_{p} = \\sqrt2 h \\sum\\limits_{i=1}^{N-1} sin(3\\pi ih) sin(p\\pi i h)$<br/>\n",
    "<p>Также </p>\n",
    "$$\\lambda_{p}^{\\sigma} = {1- \\frac{4(1-\\sigma)\\tau}{h^{2}}sin^{2}(\\frac{p\\pi h}{2}) \\over 1+ \\frac{4 \\sigma \\tau}{h^{2}}sin^{2}(\\frac{p\\pi h}{2})}, \\ \\ p = 1, \\dots, N-1$$"
   ]
  },
  {
   "cell_type": "code",
   "execution_count": 102,
   "metadata": {},
   "outputs": [],
   "source": [
    "h = [0.2, 0.1, 0.05, 0.05]\n",
    "tau = [0.02, 0.005, 0.00125, 0.005]\n",
    "test = np.zeros((4,4))\n",
    "errors = np.zeros((4,4))\n",
    "sigma = [0, 1, 0.5]\n",
    "\n",
    "errors = start(solution, phi, h, tau, errors, sigma)"
   ]
  },
  {
   "cell_type": "code",
   "execution_count": 103,
   "metadata": {},
   "outputs": [
    {
     "data": {
      "text/html": [
       "<div>\n",
       "<style scoped>\n",
       "    .dataframe tbody tr th:only-of-type {\n",
       "        vertical-align: middle;\n",
       "    }\n",
       "\n",
       "    .dataframe tbody tr th {\n",
       "        vertical-align: top;\n",
       "    }\n",
       "\n",
       "    .dataframe thead th {\n",
       "        text-align: right;\n",
       "    }\n",
       "</style>\n",
       "<table border=\"1\" class=\"dataframe\">\n",
       "  <thead>\n",
       "    <tr style=\"text-align: right;\">\n",
       "      <th></th>\n",
       "      <th>(h, tau)</th>\n",
       "      <th>(0.2, 0.02)</th>\n",
       "      <th>(0.1, 0.005)</th>\n",
       "      <th>(0.05, 0.00125)</th>\n",
       "      <th>(0.05, 0.005)</th>\n",
       "    </tr>\n",
       "  </thead>\n",
       "  <tbody>\n",
       "    <tr>\n",
       "      <th>0</th>\n",
       "      <td>sigma = 0</td>\n",
       "      <td>0.454835</td>\n",
       "      <td>0.047420</td>\n",
       "      <td>0.005963</td>\n",
       "      <td>29.611441</td>\n",
       "    </tr>\n",
       "    <tr>\n",
       "      <th>1</th>\n",
       "      <td>sigma = 1</td>\n",
       "      <td>0.250946</td>\n",
       "      <td>0.078171</td>\n",
       "      <td>0.037055</td>\n",
       "      <td>0.062734</td>\n",
       "    </tr>\n",
       "    <tr>\n",
       "      <th>2</th>\n",
       "      <td>sigma = 1/2</td>\n",
       "      <td>0.037656</td>\n",
       "      <td>0.017587</td>\n",
       "      <td>0.021650</td>\n",
       "      <td>0.000677</td>\n",
       "    </tr>\n",
       "    <tr>\n",
       "      <th>3</th>\n",
       "      <td>sigma = 1/2- h^2/(12*tau)</td>\n",
       "      <td>0.076637</td>\n",
       "      <td>0.003778</td>\n",
       "      <td>0.000681</td>\n",
       "      <td>0.004711</td>\n",
       "    </tr>\n",
       "  </tbody>\n",
       "</table>\n",
       "</div>"
      ],
      "text/plain": [
       "                    (h, tau)  (0.2, 0.02)  (0.1, 0.005)  (0.05, 0.00125)  \\\n",
       "0                  sigma = 0     0.454835      0.047420         0.005963   \n",
       "1                  sigma = 1     0.250946      0.078171         0.037055   \n",
       "2                sigma = 1/2     0.037656      0.017587         0.021650   \n",
       "3  sigma = 1/2- h^2/(12*tau)     0.076637      0.003778         0.000681   \n",
       "\n",
       "   (0.05, 0.005)  \n",
       "0      29.611441  \n",
       "1       0.062734  \n",
       "2       0.000677  \n",
       "3       0.004711  "
      ]
     },
     "execution_count": 103,
     "metadata": {},
     "output_type": "execute_result"
    }
   ],
   "source": [
    "err_res = pd.DataFrame({ \n",
    "                   '(h, tau)': [\"sigma = 0\", \"sigma = 1\", \"sigma = 1/2\", \"sigma = 1/2- h^2/(12*tau)\"],\n",
    "                   '(0.2, 0.02)': errors[:, 0], \n",
    "                   '(0.1, 0.005)': errors[:, 1],\n",
    "                   '(0.05, 0.00125)': errors[:, 2],\n",
    "                   '(0.05, 0.005)': errors[:, 3]\n",
    "                  })\n",
    "err_res"
   ]
  },
  {
   "cell_type": "code",
   "execution_count": 99,
   "metadata": {},
   "outputs": [],
   "source": [
    "def start(solution, phi, h, tau, errors, sigma):\n",
    "    for i in range(4):\n",
    "        for j in range(3):\n",
    "            u = gridSolution(phi, sigma[j], h[i], tau[i])\n",
    "            errors[j, i] = norma(solution, u)\n",
    "        last_sigma = 0.5 - ((h[i])**2)/(12*tau[i])\n",
    "        u = gridSolution(phi, last_sigma, h[i], tau[i])\n",
    "        errors[3, i] = norma(solution, u)\n",
    "    return errors"
   ]
  },
  {
   "cell_type": "markdown",
   "metadata": {},
   "source": [
    "<h5>Функция для нахождения сеточного решения</h5>"
   ]
  },
  {
   "cell_type": "code",
   "execution_count": 90,
   "metadata": {},
   "outputs": [],
   "source": [
    "def gridSolution(phi, sigma, h, tau):\n",
    "    x, k = sp.symbols(\"x k\")\n",
    "    series = 0 \n",
    "    N = int(1/h)\n",
    "    for i in range(1, N):\n",
    "        c_p = count_coeff(phi, N, i, h)\n",
    "        lambda_k = countLambda(i, sigma, h, tau)\n",
    "        psi_p = sp.simplify(sp.sqrt(2)*sp.sin(i*x*sp.pi))\n",
    "        series += c_p*((lambda_k)**k)*psi_p\n",
    "    M = int(0.1/tau)\n",
    "    res = constructGrid(series, N, M, h)\n",
    "    return res"
   ]
  },
  {
   "cell_type": "markdown",
   "metadata": {},
   "source": [
    "<h5>Функция для создания сетки решения, полученного сеточным методом</h5>"
   ]
  },
  {
   "cell_type": "code",
   "execution_count": 60,
   "metadata": {},
   "outputs": [],
   "source": [
    "def constructGrid(series, N, M, h):\n",
    "    x, k = sp.symbols(\"x k\")\n",
    "    res = np.zeros((6,6))\n",
    "    for i in range(6):\n",
    "        k_i = i*int(M/5)\n",
    "        for j in range(1, 5):\n",
    "            x_j = j*0.2\n",
    "            res[i,j] = series.subs([(x, x_j), (k, k_i)])\n",
    "        res[i, 0] = 0\n",
    "        res[i, 5] = 0\n",
    "    return res"
   ]
  },
  {
   "cell_type": "markdown",
   "metadata": {},
   "source": [
    "<h5>Функция для нахождения собственных чисел $\\lambda_{p}^{\\sigma}$</h5>"
   ]
  },
  {
   "cell_type": "code",
   "execution_count": 45,
   "metadata": {},
   "outputs": [],
   "source": [
    "def countLambda(p, sigma, h, tau):\n",
    "    countSin = (math.sin((p*math.pi*h)/2))**2\n",
    "    res = (1-((4*(1-sigma)*tau)/(h**2))*countSin)/(1+((4*sigma*tau)/(h**2))*countSin)\n",
    "    return res"
   ]
  },
  {
   "cell_type": "markdown",
   "metadata": {},
   "source": [
    "<h5>Функция для построения дискретного ряда Фурье</h5>"
   ]
  },
  {
   "cell_type": "code",
   "execution_count": 11,
   "metadata": {},
   "outputs": [],
   "source": [
    "def buildDFS(phi, N):\n",
    "    x, t = sp.symbols(\"x, t\")\n",
    "    series = 0\n",
    "    h = 1/N\n",
    "    for i in range(1, N):\n",
    "        c_p = count_coeff(phi, N, i, h)\n",
    "        exp_p = sp.simplify(sp.exp(-((sp.pi)**2)*(i**2)*t))\n",
    "        psi_p = sp.simplify(sp.sqrt(2)*sp.sin(i*x*sp.pi))\n",
    "        series += c_p*exp_p*psi_p\n",
    "    return series"
   ]
  },
  {
   "cell_type": "markdown",
   "metadata": {},
   "source": [
    "<h5>Функция для нахождения коэффициентов $\\widetilde{c}_{p} = \\sqrt2 h \\sum\\limits_{i=1}^{N-1} sin(3\\pi ih) sin(p\\pi i h)$ дискретного ряда Фурье</h5>"
   ]
  },
  {
   "cell_type": "code",
   "execution_count": 10,
   "metadata": {},
   "outputs": [],
   "source": [
    "def count_coeff(phi, N, p, h):\n",
    "    x = sp.Symbol(\"x\")\n",
    "    series = 0\n",
    "    psi = sp.simplify(sp.sin(x*p*sp.pi))\n",
    "    for i in range(1, N):\n",
    "        series += phi.subs(x, i*h)*psi.subs(x, i*h)\n",
    "    series = sp.simplify(series*sp.sqrt(2)*h)\n",
    "    return series"
   ]
  },
  {
   "cell_type": "markdown",
   "metadata": {},
   "source": [
    "<h5>Функция для построения ряда Фурье</h5>"
   ]
  },
  {
   "cell_type": "code",
   "execution_count": 3,
   "metadata": {},
   "outputs": [],
   "source": [
    "def buildFourierSeries(phi, limit):\n",
    "    x, t = sp.symbols(\"x, t\")\n",
    "    series = 0\n",
    "    for i in range(1, limit+1):\n",
    "        psi = sp.simplify(sp.sqrt(2)*sp.sin(i*x*sp.pi))\n",
    "        c_p = scalMultiply(phi, psi)\n",
    "        exp_p = sp.simplify(sp.exp(-((sp.pi)**2)*(i**2)*t))\n",
    "        series += c_p*exp_p*psi\n",
    "    return series"
   ]
  },
  {
   "cell_type": "markdown",
   "metadata": {},
   "source": [
    "<h5>Функция для нахождения скалярного произведения в $L_{2}$</h5>"
   ]
  },
  {
   "cell_type": "code",
   "execution_count": 2,
   "metadata": {},
   "outputs": [],
   "source": [
    "def scalMultiply(a, b):\n",
    "    x = sp.Symbol(\"x\")\n",
    "    f = sp.integrate(sp.nsimplify(a*b), (x, 0, 1))\n",
    "    return f"
   ]
  },
  {
   "cell_type": "markdown",
   "metadata": {},
   "source": [
    "<h5>Функция для генерации таблицы значений решения на “крупной” сетке</h5>"
   ]
  },
  {
   "cell_type": "code",
   "execution_count": 4,
   "metadata": {},
   "outputs": [],
   "source": [
    "def generateTable(u):\n",
    "    x, t = sp.symbols(\"x t\")\n",
    "    res = np.zeros((6, 6))\n",
    "    for j in range(6):\n",
    "        t_j = 0.02*j \n",
    "        for i in range(6):\n",
    "            x_i = 0.2*i\n",
    "            res[j, i] = u.subs([(x, x_i), (t, t_j)])\n",
    "    return res"
   ]
  },
  {
   "cell_type": "markdown",
   "metadata": {},
   "source": [
    "<h5>Функция для печати таблицы решения на “крупной” сетке</h5>"
   ]
  },
  {
   "cell_type": "code",
   "execution_count": 5,
   "metadata": {},
   "outputs": [],
   "source": [
    "def bigTable(u):\n",
    "    \n",
    "    df = pd.DataFrame({ \n",
    "                   't/x': [0, 0.02, 0.04, 0.06, 0.08, 0.1],\n",
    "                   '0': u[:, 0], \n",
    "                   '0.2': u[:, 1],\n",
    "                   '0.4': u[:, 2],\n",
    "                   '0.6': u[:, 3],\n",
    "                   '0.8': u[:, 4],\n",
    "                   '1': u[:, 5] \n",
    "                  })\n",
    "    \n",
    "    return df"
   ]
  },
  {
   "cell_type": "markdown",
   "metadata": {},
   "source": [
    "<h5>Функция для поиска нормы</h5>"
   ]
  },
  {
   "cell_type": "code",
   "execution_count": 19,
   "metadata": {},
   "outputs": [],
   "source": [
    "def norma(u_Ex, u_Sol):\n",
    "    u = u_Ex - u_Sol;\n",
    "    maxV = -np.inf\n",
    "    for i in range(6):\n",
    "        for j in range(6):\n",
    "            if abs(u[i,j]) > maxV:\n",
    "                maxV = abs(u[i,j])\n",
    "    return maxV"
   ]
  }
 ],
 "metadata": {
  "kernelspec": {
   "display_name": "Python 3",
   "language": "python",
   "name": "python3"
  },
  "language_info": {
   "codemirror_mode": {
    "name": "ipython",
    "version": 3
   },
   "file_extension": ".py",
   "mimetype": "text/x-python",
   "name": "python",
   "nbconvert_exporter": "python",
   "pygments_lexer": "ipython3",
   "version": "3.8.5"
  }
 },
 "nbformat": 4,
 "nbformat_minor": 4
}
