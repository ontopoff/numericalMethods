{
 "cells": [
  {
   "cell_type": "markdown",
   "metadata": {},
   "source": [
    "<h1>Задание 2. Проблема собственных значений в задаче Штурма-Лиувилля</h1>\n",
    "<h2 align = \"center\"><font color=\"#6f8600\">Вариант 7</font></h2>\n",
    "<p>Будем искать решение следующей задачи:</p>\n",
    "$-((kx+l)u')'+ (k^{2}(\\frac{1}{kx+l}-kx))u  = \\lambda u, \\ \\ u(-1) = u(1) = 0$,\n",
    "<p>где $k = 1.57894,\\ \\ l = 8.59453$</p>"
   ]
  },
  {
   "cell_type": "markdown",
   "metadata": {},
   "source": [
    "<h3>1) Получим верхние и нижние оценки для первых двух собственных чисел и соответствующие им собственные функции оператора Штурма-Лиувилля</h3>\n",
    "<p>Если положить $p_{min} = \\min{p(x)}, q_{min} = \\min{q(x)}$, и заменить в исходном дифференциальном уравнении p(x) и q(x) на $p_{min}$, $q_{min}$, то собственные числа вновь полученной задачи будут служить нижними оценками для собственных чисел исходной задачи. Если заменить коэффициенты p(x) и q(x) их верхними оценками, то получим задачу на верхние оценки собственных чисел.</p>\n",
    "<p>Собственные функции имеют следующий вид: $y(x) = C_{1}\\cos{vx} + C_{2}\\sin{vx}$, где $v = \\sqrt{\\frac{\\lambda - q_{min}}{p_{min}}}$(или $\\sqrt{\\frac{\\lambda - q_{max}}{p_{max}}}$)</p>\n",
    "<p>Cобственные числа затем найдем по формуле: $ \\lambda = v^{2}p_{min(max)} + q_{min(max)}$</p>\n",
    "<p>$C_{1}, C_{2}, ν$ определяются при подстановке собственных функций в виде описанном выше в граничные условия, и приравнивании определителя однородной системы относительно C1, C2 к нулю.</p>\n",
    "<p>Из этого получаем, что $\\sin(2v) = 0 \\Rightarrow v_{k} = \\frac{\\pi k}{2}$, где $k \\in \\mathbb {N}$</p>\n",
    "<p>Далее $v_{1} =\\frac{\\pi}{2} \\Rightarrow y_{1}(-1) = C_{1} * 0 - C_{2} * 1  = 0 \\Rightarrow C_{2} = 0 \\Rightarrow y_{1}(x) = \\frac{\\cos(v_{1}x)}{\\int\\limits_{-1}^{1} \\cos(v_{1}x)^{2}dx}$, учитывая условия нормировки.</p>\n",
    "<p>Аналогично $v_{2} = \\pi \\Rightarrow y_{2}(1) = C_{1} * (-1) + C_{2} * 0  = 0 \\Rightarrow C_{1} = 0 \\Rightarrow y_{2}(x) = \\frac{\\sin(v_{2}x)}{\\int\\limits_{-1}^{1} \\sin(v_{2}x)^{2}dx}$, учитывая условия нормировки.</p>"
   ]
  },
  {
   "cell_type": "code",
   "execution_count": 39,
   "metadata": {},
   "outputs": [
    {
     "name": "stdout",
     "output_type": "stream",
     "text": [
      "0\n",
      "0\n",
      "0\n",
      "0\n"
     ]
    }
   ],
   "source": [
    "import sympy as sp\n",
    "import math\n",
    "import pandas as pd\n",
    "import numpy as np\n",
    "\n",
    "# Определение функций p(x) и q(x)\n",
    "x = sp.Symbol(\"x\")\n",
    "k = 1.57894\n",
    "l = 8.59453\n",
    "p = sp.simplify(k*x+l)\n",
    "q = sp.simplify(k**2*((1/(k*x+l))-k*x))\n",
    "\n",
    "# Определение p_min и p_max, так как функция p(x) = kx+l возрастает на [-1,1]\n",
    "pMin = p.subs(x, -1)\n",
    "pMax = p.subs(x, 1)\n",
    "\n",
    "# Определение q_min и q_max, так как функция q(x) = k^2*(1/(kx+l) - kx) убывает на [-1,1]\n",
    "qMin = q.subs(x, 1)\n",
    "qMax = q.subs(x, -1)\n",
    "\n",
    "# Найдем собственные функции для первого и второго собственного числа\n",
    "y_1 = sp.simplify(sp.cos(sp.simplify(sp.pi/2)*x)/scalMultiply(sp.cos(sp.simplify(sp.pi/2)*x), sp.cos(sp.simplify(sp.pi/2)*x)))\n",
    "y_2 = sp.simplify(sp.sin(sp.pi*x)/scalMultiply(sp.sin(sp.pi*x), sp.sin(sp.pi*x)))\n",
    "\n",
    "# Найдем оценки для первого собственного числа\n",
    "eigenvalue_1_min = ((math.pi/2)**2)*pMin + qMin\n",
    "eigenvalue_1_max = ((math.pi/2)**2)*pMax + qMax\n",
    "\n",
    "# Найдем оценки для второго собственного числа\n",
    "eigenvalue_2_min = ((math.pi)**2)*pMin + qMin\n",
    "eigenvalue_2_max = ((math.pi)**2)*pMax + qMax\n",
    "\n",
    "# Проверим, что собственные функции удовлетворяют краевой задаче\n",
    "print(y_1.subs(x, -1))\n",
    "print(y_1.subs(x, 1))\n",
    "print(y_2.subs(x, -1))\n",
    "print(y_2.subs(x, 1))"
   ]
  },
  {
   "cell_type": "markdown",
   "metadata": {},
   "source": [
    "<h5>Результаты представим в виде таблицы</h5>"
   ]
  },
  {
   "cell_type": "code",
   "execution_count": 54,
   "metadata": {
    "scrolled": true
   },
   "outputs": [
    {
     "data": {
      "text/html": [
       "<div>\n",
       "<style scoped>\n",
       "    .dataframe tbody tr th:only-of-type {\n",
       "        vertical-align: middle;\n",
       "    }\n",
       "\n",
       "    .dataframe tbody tr th {\n",
       "        vertical-align: top;\n",
       "    }\n",
       "\n",
       "    .dataframe thead th {\n",
       "        text-align: right;\n",
       "    }\n",
       "</style>\n",
       "<table border=\"1\" class=\"dataframe\">\n",
       "  <thead>\n",
       "    <tr style=\"text-align: right;\">\n",
       "      <th></th>\n",
       "      <th></th>\n",
       "      <th>Оценки lambda1</th>\n",
       "      <th>Невязки lambda1</th>\n",
       "      <th>Оценки lambda2</th>\n",
       "      <th>Невязки lambda2</th>\n",
       "    </tr>\n",
       "  </thead>\n",
       "  <tbody>\n",
       "    <tr>\n",
       "      <th>0</th>\n",
       "      <td>min</td>\n",
       "      <td>13.6189499095878</td>\n",
       "      <td>68.076414</td>\n",
       "      <td>65.5497733647667</td>\n",
       "      <td>463.185126</td>\n",
       "    </tr>\n",
       "    <tr>\n",
       "      <th>1</th>\n",
       "      <td>max</td>\n",
       "      <td>29.3937686271427</td>\n",
       "      <td>68.355283</td>\n",
       "      <td>104.699861841906</td>\n",
       "      <td>463.758819</td>\n",
       "    </tr>\n",
       "  </tbody>\n",
       "</table>\n",
       "</div>"
      ],
      "text/plain": [
       "          Оценки lambda1  Невязки lambda1    Оценки lambda2  Невязки lambda2\n",
       "0  min  13.6189499095878        68.076414  65.5497733647667       463.185126\n",
       "1  max  29.3937686271427        68.355283  104.699861841906       463.758819"
      ]
     },
     "execution_count": 54,
     "metadata": {},
     "output_type": "execute_result"
    }
   ],
   "source": [
    "L_1 = countL(y_1)\n",
    "L_2 = countL(y_2)\n",
    "\n",
    "eigenvalue_1_Nev = [integrate(sp.lambdify(x, sp.simplify((L_1 - eigenvalue_1_min*y_1)**2) )), \n",
    "                    integrate(sp.lambdify(x, sp.simplify((L_1 - eigenvalue_1_max*y_1)**2) ))]\n",
    "eigenvalue_2_Nev = [integrate(sp.lambdify(x, sp.simplify((L_2 - eigenvalue_2_min*y_2)**2) )), \n",
    "                    integrate(sp.lambdify(x, sp.simplify((L_2 - eigenvalue_2_max*y_2)**2) ))]\n",
    "df = pd.DataFrame({ \n",
    "                   ' ': [\"min\", \"max\"],\n",
    "                   'Оценки lambda1': [eigenvalue_1_min, eigenvalue_1_max], \n",
    "                   'Невязки lambda1': [eigenvalue_1_Nev[0], eigenvalue_1_Nev[1]], \n",
    "                   'Оценки lambda2': [eigenvalue_2_min, eigenvalue_2_max],\n",
    "                   'Невязки lambda2': [eigenvalue_2_Nev[0], eigenvalue_2_Nev[1]]\n",
    "                  })\n",
    "df"
   ]
  },
  {
   "cell_type": "markdown",
   "metadata": {},
   "source": [
    "<h3>2) Получим приближения для первых двух собственных чисел</h3>\n",
    "<p>На левом конце промежутка [−1, 1] краевая задача будет называться первой, так как $\\alpha_{2} = 0 \\Rightarrow Q_{l} = 0$</p>\n",
    "<p>На правом конце промежутка [−1, 1] краевая задача будет называться первой, так как $\\beta_{2} = 0 \\Rightarrow Q_{r} = 0$</p>"
   ]
  },
  {
   "cell_type": "code",
   "execution_count": 64,
   "metadata": {},
   "outputs": [
    {
     "data": {
      "text/latex": [
       "$\\displaystyle 21.4975201925867$"
      ],
      "text/plain": [
       "21.4975201925867"
      ]
     },
     "execution_count": 64,
     "metadata": {},
     "output_type": "execute_result"
    }
   ],
   "source": [
    "lambda_1 = energScalMultiply(y_1, y_1)/scalMultiply(y_1, y_1)\n",
    "lambda_1"
   ]
  },
  {
   "cell_type": "code",
   "execution_count": 63,
   "metadata": {
    "scrolled": true
   },
   "outputs": [
    {
     "data": {
      "text/latex": [
       "$\\displaystyle 85.1174907608938$"
      ],
      "text/plain": [
       "85.1174907608938"
      ]
     },
     "execution_count": 63,
     "metadata": {},
     "output_type": "execute_result"
    }
   ],
   "source": [
    "lambda_2 = energScalMultiply(y_2, y_2)/scalMultiply(y_2, y_2)\n",
    "lambda_2"
   ]
  },
  {
   "cell_type": "markdown",
   "metadata": {},
   "source": [
    "<h3>3) Построим матрицы Ритца $Γ_{L}$ и $Γ$ для n = 7</h3>\n",
    "<p>Используя встроенные функции математического пакета, получим два первых собственных числа</p>\n",
    "<p>Координатная система: </p>\n",
    "$\\omega_{k}(x) = (1 - x^{2})\\hat{P}_{k-1}^{(2,2)}(x), где\\ \\ k = 1,2,\\dots, n$ - ЛНЗ система, так как имеем первую краевую задачу на обоих концах"
   ]
  },
  {
   "cell_type": "code",
   "execution_count": 149,
   "metadata": {},
   "outputs": [
    {
     "data": {
      "text/plain": [
       "array([  21.20103704,   84.01277899,  187.63974857,  331.43367138,\n",
       "        522.46678126, 1862.58814879, 3794.79007639])"
      ]
     },
     "execution_count": 149,
     "metadata": {},
     "output_type": "execute_result"
    }
   ],
   "source": [
    "# Определим координатную систему\n",
    "w = coordFunctions(7)\n",
    "\n",
    "# Построим матрицы Ритца\n",
    "[G, GL] = ritz_G_GL(w)\n",
    "\n",
    "# Найдем собственные числа матрицы G_L\n",
    "[eigenvalues, eigenvectors] = np.linalg.eigh(GL)"
   ]
  },
  {
   "cell_type": "markdown",
   "metadata": {},
   "source": [
    "<p>Первое собственное число, удовлетворяющее найденным ограничениям и близкое по значению с вычисленным в пункте 2</p>"
   ]
  },
  {
   "cell_type": "code",
   "execution_count": 151,
   "metadata": {},
   "outputs": [
    {
     "data": {
      "text/plain": [
       "21.20103703704918"
      ]
     },
     "execution_count": 151,
     "metadata": {},
     "output_type": "execute_result"
    }
   ],
   "source": [
    "eigenvalues[0]"
   ]
  },
  {
   "cell_type": "markdown",
   "metadata": {},
   "source": [
    "<p>Второе собственное число, удовлетворяющее найденным ограничениям и близкое по значению с вычисленным в пункте 2</p>"
   ]
  },
  {
   "cell_type": "code",
   "execution_count": 152,
   "metadata": {},
   "outputs": [
    {
     "data": {
      "text/plain": [
       "84.01277898731159"
      ]
     },
     "execution_count": 152,
     "metadata": {},
     "output_type": "execute_result"
    }
   ],
   "source": [
    "eigenvalues[1]"
   ]
  },
  {
   "cell_type": "markdown",
   "metadata": {},
   "source": [
    "<h3>4) Извлекая подматрицы из матриц Ритца, построенных в предыдущем пункте, получим первое собственное число и соответствующую ему собственную функцию для различных значений n методом обратных итераций</h3>"
   ]
  },
  {
   "cell_type": "code",
   "execution_count": 229,
   "metadata": {},
   "outputs": [],
   "source": [
    "# Подготовка таблицы вывода\n",
    "n = [3, 4, 5, 6, 7]\n",
    "iter_found_lambda = []\n",
    "iter_found_lambda_error = []\n",
    "iter_last = []\n",
    "\n",
    "for i in n:\n",
    "    # Найдем матрицу A = (G_L)^(-1)*G\n",
    "    A = np.linalg.inv(GL[:i,:i]).dot(G[:i,:i])\n",
    "    \n",
    "#     Поиск максимального по модулю собственного числа методом скалярных произведений с точностью ε, написанным в прошлом семестре\n",
    "    [lambda_max, z] = dotProdMethod(A[:i,:i], i)\n",
    "\n",
    "#     Минимальное найденное собственное число\n",
    "    lambda_min = 1/lambda_max\n",
    "    iter_found_lambda.append(lambda_min)\n",
    "    \n",
    "    iter_found_lambda_error.append(lambda_min - eigenvalues[0])\n",
    "    \n",
    "    y_n = countY(z, w, i)\n",
    "    iter_last.append(countL(y_n).subs(x, 0) - lambda_min*y_n.subs(x, 0))"
   ]
  },
  {
   "cell_type": "markdown",
   "metadata": {},
   "source": [
    "<h5>Результаты представим в виде таблицы</h5>\n",
    "Можно видеть, что метод обратных итераций показал более лучший результат, чем вычисленный в пункте 2)"
   ]
  },
  {
   "cell_type": "code",
   "execution_count": 230,
   "metadata": {},
   "outputs": [
    {
     "data": {
      "text/html": [
       "<div>\n",
       "<style scoped>\n",
       "    .dataframe tbody tr th:only-of-type {\n",
       "        vertical-align: middle;\n",
       "    }\n",
       "\n",
       "    .dataframe tbody tr th {\n",
       "        vertical-align: top;\n",
       "    }\n",
       "\n",
       "    .dataframe thead th {\n",
       "        text-align: right;\n",
       "    }\n",
       "</style>\n",
       "<table border=\"1\" class=\"dataframe\">\n",
       "  <thead>\n",
       "    <tr style=\"text-align: right;\">\n",
       "      <th></th>\n",
       "      <th>n</th>\n",
       "      <th>lambda1_n</th>\n",
       "      <th>lambda1_n-lambda1*</th>\n",
       "      <th>(Ly_n - lambda1_n*y_n)(0)</th>\n",
       "    </tr>\n",
       "  </thead>\n",
       "  <tbody>\n",
       "    <tr>\n",
       "      <th>0</th>\n",
       "      <td>3</td>\n",
       "      <td>21.413396</td>\n",
       "      <td>0.212359</td>\n",
       "      <td>0.0165370364718964</td>\n",
       "    </tr>\n",
       "    <tr>\n",
       "      <th>1</th>\n",
       "      <td>4</td>\n",
       "      <td>21.412834</td>\n",
       "      <td>0.211797</td>\n",
       "      <td>0.0177594609011915</td>\n",
       "    </tr>\n",
       "    <tr>\n",
       "      <th>2</th>\n",
       "      <td>5</td>\n",
       "      <td>21.366952</td>\n",
       "      <td>0.165915</td>\n",
       "      <td>-0.100553213334186</td>\n",
       "    </tr>\n",
       "    <tr>\n",
       "      <th>3</th>\n",
       "      <td>6</td>\n",
       "      <td>21.366879</td>\n",
       "      <td>0.165842</td>\n",
       "      <td>-0.0999140430278082</td>\n",
       "    </tr>\n",
       "    <tr>\n",
       "      <th>4</th>\n",
       "      <td>7</td>\n",
       "      <td>21.201050</td>\n",
       "      <td>0.000013</td>\n",
       "      <td>0.219534988860075</td>\n",
       "    </tr>\n",
       "  </tbody>\n",
       "</table>\n",
       "</div>"
      ],
      "text/plain": [
       "   n  lambda1_n  lambda1_n-lambda1* (Ly_n - lambda1_n*y_n)(0)\n",
       "0  3  21.413396            0.212359        0.0165370364718964\n",
       "1  4  21.412834            0.211797        0.0177594609011915\n",
       "2  5  21.366952            0.165915        -0.100553213334186\n",
       "3  6  21.366879            0.165842       -0.0999140430278082\n",
       "4  7  21.201050            0.000013         0.219534988860075"
      ]
     },
     "execution_count": 230,
     "metadata": {},
     "output_type": "execute_result"
    }
   ],
   "source": [
    "df = pd.DataFrame({ \n",
    "                   'n': [n[0], n[1], n[2], n[3], n[4]],\n",
    "                   'lambda1_n': [iter_found_lambda[0], iter_found_lambda[1],iter_found_lambda[2],iter_found_lambda[3],iter_found_lambda[4]], \n",
    "                   'lambda1_n-lambda1*': [iter_found_lambda_error[0], iter_found_lambda_error[1], iter_found_lambda_error[2], iter_found_lambda_error[3], iter_found_lambda_error[4]], \n",
    "                   '(Ly_n - lambda1_n*y_n)(0)': [iter_last[0], iter_last[1], iter_last[2], iter_last[3], iter_last[4]]\n",
    "                  })\n",
    "df"
   ]
  },
  {
   "cell_type": "markdown",
   "metadata": {},
   "source": [
    "<h5>Функция для генерации системы полиномов Якоби</h5>"
   ]
  },
  {
   "cell_type": "code",
   "execution_count": 143,
   "metadata": {},
   "outputs": [],
   "source": [
    "def createcoordFunctionsJacobi(n):\n",
    "    x = sp.Symbol(\"x\")\n",
    "    w = [sp.simplify(1), sp.simplify(3*x)]\n",
    "    for i in range(0, n-2):\n",
    "        u = sp.simplify(( (i+4)*(2*i+7)*x*w[i+1] - (i+4)*(i+3)*w[i] )/( (i+6)*(i + 2) ))\n",
    "        w.append(u)\n",
    "    return w"
   ]
  },
  {
   "cell_type": "markdown",
   "metadata": {},
   "source": [
    "<h5>Функция для генерации ЛНЗ системы координатных функций</h5>"
   ]
  },
  {
   "cell_type": "code",
   "execution_count": 141,
   "metadata": {},
   "outputs": [],
   "source": [
    "def coordFunctions(n):\n",
    "    w = createcoordFunctionsJacobi(7)\n",
    "    p_hat = []\n",
    "    for i in range(0, n):\n",
    "        u = sp.simplify((1-x**2)*(0.25*sp.sqrt(((i+3)*(i+4)*(2*i+5))/(2*(i+1)*(i+2)))*w[i]))\n",
    "        p_hat.append(u)\n",
    "    return p_hat"
   ]
  },
  {
   "cell_type": "markdown",
   "metadata": {},
   "source": [
    "<h5>Функция для генерации матриц Ритца</h5>"
   ]
  },
  {
   "cell_type": "code",
   "execution_count": 147,
   "metadata": {},
   "outputs": [],
   "source": [
    "def ritz_G_GL(w):\n",
    "    G = np.zeros((7, 7))\n",
    "    GL = np.zeros((7, 7))\n",
    "    for i in range(0, 7):\n",
    "        for j in range(0, 7):\n",
    "            G[i,j] = scalMultiply(w[i], w[j])\n",
    "            GL[i,j] = energScalMultiply(w[i], w[j])\n",
    "    return [G, GL]"
   ]
  },
  {
   "cell_type": "markdown",
   "metadata": {},
   "source": [
    "<h5>Функция для вычисления энергетического скалярного произведения</h5>"
   ]
  },
  {
   "cell_type": "code",
   "execution_count": 145,
   "metadata": {},
   "outputs": [],
   "source": [
    "def energScalMultiply(a,b):\n",
    "    x = sp.Symbol(\"x\")\n",
    "    aDiff = sp.simplify(sp.diff(a,x))\n",
    "    bDiff = sp.simplify(sp.diff(b,x))\n",
    "    f = sp.lambdify(x, sp.simplify(sp.simplify(k*x+l)*aDiff*bDiff  + q*a*b))\n",
    "    return integrate(f)"
   ]
  },
  {
   "cell_type": "markdown",
   "metadata": {},
   "source": [
    "<h5>Функция для нахождения скалярного произведения в $L_{2}$</h5>"
   ]
  },
  {
   "cell_type": "code",
   "execution_count": 36,
   "metadata": {},
   "outputs": [],
   "source": [
    "def scalMultiply(a, b):\n",
    "    x = sp.Symbol(\"x\")\n",
    "    f = sp.integrate(sp.nsimplify(a*b), (x, -1, 1))\n",
    "    return f"
   ]
  },
  {
   "cell_type": "markdown",
   "metadata": {},
   "source": [
    "<h5>Функция для нахождения значения выражения типа $Ly_{j}, j =1, 2$ </h5>"
   ]
  },
  {
   "cell_type": "code",
   "execution_count": 213,
   "metadata": {},
   "outputs": [],
   "source": [
    "def countL(function):\n",
    "    diffFunction = sp.simplify(sp.diff(function, x))\n",
    "    res = sp.simplify(-sp.diff((sp.simplify(k*x+l)*diffFunction),x) + q*function)\n",
    "    return res"
   ]
  },
  {
   "cell_type": "markdown",
   "metadata": {},
   "source": [
    "<h5>Функция для численного интегрирования</h5>"
   ]
  },
  {
   "cell_type": "code",
   "execution_count": 51,
   "metadata": {},
   "outputs": [],
   "source": [
    "def integrate(f):\n",
    "    y = []\n",
    "    dx = []\n",
    "    j = -1\n",
    "    for i in range(21):\n",
    "        dx.append(j)\n",
    "        y.append(f(j))\n",
    "        j += 0.1\n",
    "    res = np.trapz(y, dx)\n",
    "    return res"
   ]
  },
  {
   "cell_type": "markdown",
   "metadata": {},
   "source": [
    "<h5>Функция нахождения максимального по модулю собственного числа методом скалярных произведений с точностью ε</h5>"
   ]
  },
  {
   "cell_type": "code",
   "execution_count": 224,
   "metadata": {},
   "outputs": [],
   "source": [
    "def dotProdMethod(G, n):\n",
    "    vectorY = np.zeros(n) \n",
    "    vectorYBeforeIter = np.zeros(n) \n",
    "    for i in range(0,n):\n",
    "        vectorY[i] = 1;\n",
    "    normaY = np.linalg.norm(vectorY, np.inf)\n",
    "    for i in range(0,n):\n",
    "        vectorY[i] = vectorY[i] / normaY\n",
    "        vectorYBeforeIter[i] = vectorY[i] \n",
    "        \n",
    "    lambda_iter = 1\n",
    "    eps = 0.000001\n",
    "    k = 0\n",
    "    \n",
    "    while True:\n",
    "        lymbdaBefore = lambda_iter\n",
    "        vectorY = G.dot(vectorY)\n",
    "        lambda_iter = np.dot(vectorY,vectorYBeforeIter)/np.dot(vectorYBeforeIter,vectorYBeforeIter)\n",
    "        if k > 1:  \n",
    "            if abs(lambda_iter - lymbdaBefore) < eps:\n",
    "                break\n",
    "            else:\n",
    "                k = k+1\n",
    "                normaY = np.linalg.norm(vectorY, np.inf)\n",
    "                for i in range(0,n):\n",
    "                    vectorY[i] = vectorY[i] / normaY\n",
    "                vectorYBeforeIter = vectorY \n",
    "        else:\n",
    "            k = k+1\n",
    "            normaY = np.linalg.norm(vectorY, np.inf)\n",
    "            for i in range(0,n):\n",
    "                vectorY[i] = vectorY[i] / normaY\n",
    "            vectorYBeforeIter = vectorY\n",
    "    \n",
    "\n",
    "    eigVect = vectorY             \n",
    "    eigVal = lambda_iter\n",
    "    \n",
    "    return [eigVal,eigVect]"
   ]
  },
  {
   "cell_type": "markdown",
   "metadata": {},
   "source": [
    "<h5>Функция приближения по собственному вектору</h5>"
   ]
  },
  {
   "cell_type": "code",
   "execution_count": 210,
   "metadata": {},
   "outputs": [],
   "source": [
    "def countY(z, w, n):\n",
    "    x = sp.Symbol(\"x\")\n",
    "    f = 0\n",
    "    for i in range(0, n):\n",
    "        f = sp.simplify(f+ z[i]*w[i])\n",
    "    return f"
   ]
  }
 ],
 "metadata": {
  "kernelspec": {
   "display_name": "Python 3",
   "language": "python",
   "name": "python3"
  },
  "language_info": {
   "codemirror_mode": {
    "name": "ipython",
    "version": 3
   },
   "file_extension": ".py",
   "mimetype": "text/x-python",
   "name": "python",
   "nbconvert_exporter": "python",
   "pygments_lexer": "ipython3",
   "version": "3.8.5"
  }
 },
 "nbformat": 4,
 "nbformat_minor": 4
}
