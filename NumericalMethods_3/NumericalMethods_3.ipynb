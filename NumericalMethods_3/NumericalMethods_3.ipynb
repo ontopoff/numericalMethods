{
 "cells": [
  {
   "cell_type": "markdown",
   "metadata": {},
   "source": [
    "<h1>Задание 3. Численное решение интегрального уравнения Фредгольма второго рода</h1>\n",
    "<h2 align = \"center\"><font color=\"#6f8600\">Вариант 9</font></h2>\n",
    "<p>Будем искать решение следующей задачи:</p>\n",
    "$u(x) + 0.1\\int\\limits_{0}^{1} \\sin(x(0.5+y^{2}))u(y)dy = x + 0.1$, применяя составную формулу трапеций"
   ]
  },
  {
   "cell_type": "markdown",
   "metadata": {},
   "source": [
    "<h5>Составная формула трапеций</h5>\n",
    "<p>Заменим интеграл в условии на квадратурную сумму по формуле трапеций:</p>\n",
    "$\\int\\limits_{0}^{1} f(x)dx \\approx \\frac{h}{2}(f(0)+f(1)+2\\sum\\limits_{i=1}^{n-1}f(x_{i}))$, где h - длина отрезка $ [x_{i-1}, x_{i}]$\n",
    "<p>Тогда получим уравнение: $ u^{n}(x) - (\\frac{h}{2}(H(x,x_{0})+H(x,x_{n}))+\\sum\\limits_{k=1}^{n-1}hH(x,x_{k}))u^{n}(x_{k}) = x + 0.1$</p>\n",
    "<p>Здесь $x_{i} = 0 + ih = ih $, где $ h = \\frac{1-0}{n} = \\frac{1}{n}, i = 0, 1, \\dots, n$</p>"
   ]
  },
  {
   "cell_type": "markdown",
   "metadata": {},
   "source": [
    "<h5>Реализация</h5>"
   ]
  },
  {
   "cell_type": "code",
   "execution_count": 44,
   "metadata": {},
   "outputs": [],
   "source": [
    "import sympy as sp\n",
    "import math\n",
    "import pandas as pd\n",
    "import numpy as np\n",
    "\n",
    "# Определим некоторые постоянные\n",
    "eps = 0.00001\n",
    "a = 0\n",
    "b = 1\n",
    "n = 1\n",
    "err = 1\n",
    "\n",
    "# Определим функции f и H\n",
    "x, y = sp.symbols(\"x y\")\n",
    "f = sp.simplify(x+0.1)\n",
    "H = sp.simplify(-0.1*sp.sin(x*(0.5+y**2)))\n",
    "\n",
    "# Определим таблицу результатов\n",
    "res_n_left = []\n",
    "res_n_middle = []\n",
    "res_n_right = []\n",
    "\n",
    "while True:\n",
    "#     Определим узлы и коэффициенты для формулы трапеции\n",
    "    h = 1/n\n",
    "    [x_k, A] = findNodesAndCoeff(h, n)\n",
    "    \n",
    "#     Определим СЛАУ вида Dz = g, благодаря которой можно вычислить решение\n",
    "    d = np.zeros((n+1, n+1))\n",
    "    g = np.zeros(n+1)\n",
    "    for i in range(0, n+1):\n",
    "        for j in range(0, n+1):\n",
    "            d[i,j] = kron(i,j) - A[j]*H.subs([(x, x_k[i]), (y, x_k[j])])\n",
    "        g[i] = f.subs(x, x_k[i])\n",
    "    \n",
    "#     Находим решение СЛАУ    \n",
    "    z = countSLAE(d, g)\n",
    "    \n",
    "#     Вычислим u_n(x)\n",
    "    u_found = countU(z, x_k, A, f, H, n)\n",
    "    \n",
    "    res_n_left.append(u_found.subs(x, 0))\n",
    "    res_n_middle.append(u_found.subs(x, 0.5))\n",
    "    res_n_right.append(u_found.subs(x, 1))\n",
    "    \n",
    "    if n == 1:\n",
    "        n = n+1\n",
    "    else:\n",
    "        err = max(abs(res_n_left[-1] - res_n_left[-2]), abs(res_n_middle[-1] - res_n_middle[-2]), abs(res_n_right[-1] - res_n_right[-2]))\n",
    "        n = n+1\n",
    "    if err < eps:\n",
    "        break"
   ]
  },
  {
   "cell_type": "markdown",
   "metadata": {},
   "source": [
    "<h5>Функция печати таблицы результатов</h5>"
   ]
  },
  {
   "cell_type": "code",
   "execution_count": 45,
   "metadata": {},
   "outputs": [
    {
     "data": {
      "text/html": [
       "<div>\n",
       "<style scoped>\n",
       "    .dataframe tbody tr th:only-of-type {\n",
       "        vertical-align: middle;\n",
       "    }\n",
       "\n",
       "    .dataframe tbody tr th {\n",
       "        vertical-align: top;\n",
       "    }\n",
       "\n",
       "    .dataframe thead th {\n",
       "        text-align: right;\n",
       "    }\n",
       "</style>\n",
       "<table border=\"1\" class=\"dataframe\">\n",
       "  <thead>\n",
       "    <tr style=\"text-align: right;\">\n",
       "      <th></th>\n",
       "      <th>u_n(0)</th>\n",
       "      <th>u_n(1/2)</th>\n",
       "      <th>u_n(1)</th>\n",
       "    </tr>\n",
       "  </thead>\n",
       "  <tbody>\n",
       "    <tr>\n",
       "      <th>0</th>\n",
       "      <td>0.100000000000000</td>\n",
       "      <td>0.563131650783018</td>\n",
       "      <td>1.04546077806636</td>\n",
       "    </tr>\n",
       "    <tr>\n",
       "      <th>1</th>\n",
       "      <td>0.100000000000000</td>\n",
       "      <td>0.570979280142436</td>\n",
       "      <td>1.05308029778932</td>\n",
       "    </tr>\n",
       "    <tr>\n",
       "      <th>2</th>\n",
       "      <td>0.100000000000000</td>\n",
       "      <td>0.572367962496634</td>\n",
       "      <td>1.05399966425909</td>\n",
       "    </tr>\n",
       "    <tr>\n",
       "      <th>3</th>\n",
       "      <td>0.100000000000000</td>\n",
       "      <td>0.572846995489873</td>\n",
       "      <td>1.05428090390227</td>\n",
       "    </tr>\n",
       "    <tr>\n",
       "      <th>4</th>\n",
       "      <td>0.100000000000000</td>\n",
       "      <td>0.573067412226857</td>\n",
       "      <td>1.05440404118913</td>\n",
       "    </tr>\n",
       "    <tr>\n",
       "      <th>5</th>\n",
       "      <td>0.100000000000000</td>\n",
       "      <td>0.573186790523073</td>\n",
       "      <td>1.05446907874007</td>\n",
       "    </tr>\n",
       "    <tr>\n",
       "      <th>6</th>\n",
       "      <td>0.100000000000000</td>\n",
       "      <td>0.573258650092701</td>\n",
       "      <td>1.05450766717972</td>\n",
       "    </tr>\n",
       "    <tr>\n",
       "      <th>7</th>\n",
       "      <td>0.100000000000000</td>\n",
       "      <td>0.573305240403207</td>\n",
       "      <td>1.05453246078842</td>\n",
       "    </tr>\n",
       "    <tr>\n",
       "      <th>8</th>\n",
       "      <td>0.100000000000000</td>\n",
       "      <td>0.573337160054986</td>\n",
       "      <td>1.05454934490150</td>\n",
       "    </tr>\n",
       "    <tr>\n",
       "      <th>9</th>\n",
       "      <td>0.100000000000000</td>\n",
       "      <td>0.573359980732578</td>\n",
       "      <td>1.05456136503944</td>\n",
       "    </tr>\n",
       "    <tr>\n",
       "      <th>10</th>\n",
       "      <td>0.100000000000000</td>\n",
       "      <td>0.573376859397375</td>\n",
       "      <td>1.05457022802818</td>\n",
       "    </tr>\n",
       "    <tr>\n",
       "      <th>11</th>\n",
       "      <td>0.100000000000000</td>\n",
       "      <td>0.573389693553513</td>\n",
       "      <td>1.05457695167133</td>\n",
       "    </tr>\n",
       "    <tr>\n",
       "      <th>12</th>\n",
       "      <td>0.100000000000000</td>\n",
       "      <td>0.573399679478753</td>\n",
       "      <td>1.05458217385761</td>\n",
       "    </tr>\n",
       "  </tbody>\n",
       "</table>\n",
       "</div>"
      ],
      "text/plain": [
       "               u_n(0)           u_n(1/2)            u_n(1)\n",
       "0   0.100000000000000  0.563131650783018  1.04546077806636\n",
       "1   0.100000000000000  0.570979280142436  1.05308029778932\n",
       "2   0.100000000000000  0.572367962496634  1.05399966425909\n",
       "3   0.100000000000000  0.572846995489873  1.05428090390227\n",
       "4   0.100000000000000  0.573067412226857  1.05440404118913\n",
       "5   0.100000000000000  0.573186790523073  1.05446907874007\n",
       "6   0.100000000000000  0.573258650092701  1.05450766717972\n",
       "7   0.100000000000000  0.573305240403207  1.05453246078842\n",
       "8   0.100000000000000  0.573337160054986  1.05454934490150\n",
       "9   0.100000000000000  0.573359980732578  1.05456136503944\n",
       "10  0.100000000000000  0.573376859397375  1.05457022802818\n",
       "11  0.100000000000000  0.573389693553513  1.05457695167133\n",
       "12  0.100000000000000  0.573399679478753  1.05458217385761"
      ]
     },
     "execution_count": 45,
     "metadata": {},
     "output_type": "execute_result"
    }
   ],
   "source": [
    "df = pd.DataFrame({ \n",
    "                   'u_n(0)': res_n_left[:],\n",
    "                   'u_n(1/2)': res_n_middle[:], \n",
    "                   'u_n(1)': res_n_right[:] \n",
    "                  })\n",
    "df"
   ]
  },
  {
   "cell_type": "markdown",
   "metadata": {},
   "source": [
    "<h5>Погрешность последнего шага</h5>"
   ]
  },
  {
   "cell_type": "code",
   "execution_count": 70,
   "metadata": {},
   "outputs": [
    {
     "name": "stdout",
     "output_type": "stream",
     "text": [
      "В точке x = 0 погрешность: 0\n",
      "В точке x = 1/2 погрешность: 0.00000998592523959729\n",
      "В точке x = 1 погрешность: 0.00000522218628495885\n"
     ]
    }
   ],
   "source": [
    "print(f\"В точке x = 0 погрешность: {res_n_left[-1] - res_n_left[-2]}\")\n",
    "print(f\"В точке x = 1/2 погрешность: {res_n_middle[-1] - res_n_middle[-2]}\")\n",
    "print(f\"В точке x = 1 погрешность: {res_n_right[-1] - res_n_right[-2]}\")"
   ]
  },
  {
   "cell_type": "markdown",
   "metadata": {},
   "source": [
    "<h5>Функция для поиска узлов и коэффициентов составной формулы трапеций</h5>"
   ]
  },
  {
   "cell_type": "code",
   "execution_count": 13,
   "metadata": {},
   "outputs": [],
   "source": [
    "def findNodesAndCoeff(h, n):\n",
    "    nodes = []\n",
    "    coeff = []\n",
    "    for i in range(0, n+1):\n",
    "        coeff.append(h)\n",
    "        nodes.append(i*h)\n",
    "    coeff[0] = coeff[0]/2\n",
    "    coeff[n] = coeff[n]/2\n",
    "    return [nodes, coeff]"
   ]
  },
  {
   "cell_type": "markdown",
   "metadata": {},
   "source": [
    "<h5>Символ Кронекера</h5>"
   ]
  },
  {
   "cell_type": "code",
   "execution_count": 14,
   "metadata": {},
   "outputs": [],
   "source": [
    "def kron(i,j):\n",
    "    if i == j:\n",
    "        return 1\n",
    "    else:\n",
    "        return 0"
   ]
  },
  {
   "cell_type": "markdown",
   "metadata": {},
   "source": [
    "<h5>Функция для решения СЛАУ</h5>"
   ]
  },
  {
   "cell_type": "code",
   "execution_count": 16,
   "metadata": {},
   "outputs": [],
   "source": [
    "def countSLAE(D, g):\n",
    "    c = np.linalg.solve(D, g)\n",
    "    return c"
   ]
  },
  {
   "cell_type": "markdown",
   "metadata": {},
   "source": [
    "<h5>Функция для нахождения решения исходного уравнения, после вычисления решения СЛАУ</h5>"
   ]
  },
  {
   "cell_type": "code",
   "execution_count": 19,
   "metadata": {},
   "outputs": [],
   "source": [
    "def countU(z, x_k, A, f, H, n):\n",
    "    u = sp.simplify(f)\n",
    "    for i in range(0, n+1):\n",
    "        u = sp.simplify(u+ A[i]*H.subs(y, x_k[i])*z[i])\n",
    "    return u"
   ]
  }
 ],
 "metadata": {
  "kernelspec": {
   "display_name": "Python 3",
   "language": "python",
   "name": "python3"
  },
  "language_info": {
   "codemirror_mode": {
    "name": "ipython",
    "version": 3
   },
   "file_extension": ".py",
   "mimetype": "text/x-python",
   "name": "python",
   "nbconvert_exporter": "python",
   "pygments_lexer": "ipython3",
   "version": "3.8.5"
  }
 },
 "nbformat": 4,
 "nbformat_minor": 4
}
